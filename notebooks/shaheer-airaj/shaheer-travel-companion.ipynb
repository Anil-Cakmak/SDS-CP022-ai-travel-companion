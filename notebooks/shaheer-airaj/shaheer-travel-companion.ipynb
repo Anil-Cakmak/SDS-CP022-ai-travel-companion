{
 "cells": [
  {
   "cell_type": "markdown",
   "metadata": {},
   "source": [
    "# Tavily example"
   ]
  },
  {
   "cell_type": "code",
   "execution_count": 16,
   "metadata": {},
   "outputs": [
    {
     "name": "stdout",
     "output_type": "stream",
     "text": [
      "Loaded TAVILY_API_KEY\n",
      "Loaded OPENAI_API_KEY\n"
     ]
    }
   ],
   "source": [
    "import os\n",
    "from tavily import TavilyClient\n",
    "from dotenv import load_dotenv\n",
    "load_dotenv()\n",
    "\n",
    "TAVILY_API_KEY = os.getenv(\"TAVILY_API_KEY\")\n",
    "OPENAI_API_KEY = os.getenv(\"OPENAI_API_KEY\")\n",
    "\n",
    "if not TAVILY_API_KEY:\n",
    "    raise ValueError(\"TAVILY_API_KEY not found.\")\n",
    "\n",
    "if not OPENAI_API_KEY:\n",
    "    raise ValueError(\"OPENAI_API_KEY not found.\")"
   ]
  },
  {
   "cell_type": "code",
   "execution_count": 8,
   "metadata": {},
   "outputs": [],
   "source": [
    "client = TavilyClient()\n",
    "resp = client.search(\"What are the current ticket prices of flights from Abu Dhabi to Karachi?\")"
   ]
  },
  {
   "cell_type": "code",
   "execution_count": 15,
   "metadata": {},
   "outputs": [
    {
     "name": "stdout",
     "output_type": "stream",
     "text": [
      "\n",
      " Cheap Flights from Abu Dhabi (AUH) to Karachi (KHI) start at $114 for one-way and $278 for round trip. Earn your airline miles on top of our rewards!\n",
      "\n",
      " Book Abu Dhabi to Karachi flight tickets at the cheapest price starting at ₹9504. Compare approximately 71 flights of major airlines that fly between Abu Dhabi and Karachi. The shortest flight duration is 2h 10m. ixigo also provides information like flight fares, flight timings, flight schedule changes & stops (if any), etc.\n",
      "\n",
      " Book Abu Dhabi(AUH) to Karachi(KHI) flight tickets on Cleartrip United Arab Emirates. Get the lowest airfare on the flights from Abu Dhabi to Karachi. ... The price of a Abu Dhabi to Karachi flight ticket varies between a minimum AED 375 or up to AED 4240. Note: Cleartrip Lowest Air Fares Calendar provides an indication of prices (per person\n",
      "\n",
      " Book Abu Dhabi to Karachi flights with Etihad Airways. Fly economy, business or first class with us and enjoy premium travel experience from Abu Dhabi (AUH) to Karachi (KHI). ... Price. From Abu Dhabi (AUH) To Karachi (KHI) Round-trip / Economy: 31 Oct 2025 - 30 Nov 2025: From. AED1,815*\n",
      "\n",
      " On the other hand, Friday is the most expensive day to fly from Abu Dhabi to Karachi. For your return ticket, we recommend flying on a Monday and avoiding Wednesdays for the best deals. ... In the last 3 days, the lowest price for a flight from Abu Dhabi to Karachi was AED 104 for a one-way ticket and AED 239 for a return.\n"
     ]
    }
   ],
   "source": [
    "for results in resp['results']:\n",
    "    print('\\n',results['content'])"
   ]
  },
  {
   "cell_type": "code",
   "execution_count": null,
   "metadata": {},
   "outputs": [],
   "source": []
  }
 ],
 "metadata": {
  "kernelspec": {
   "display_name": ".venv",
   "language": "python",
   "name": "python3"
  },
  "language_info": {
   "codemirror_mode": {
    "name": "ipython",
    "version": 3
   },
   "file_extension": ".py",
   "mimetype": "text/x-python",
   "name": "python",
   "nbconvert_exporter": "python",
   "pygments_lexer": "ipython3",
   "version": "3.9.6"
  }
 },
 "nbformat": 4,
 "nbformat_minor": 2
}
