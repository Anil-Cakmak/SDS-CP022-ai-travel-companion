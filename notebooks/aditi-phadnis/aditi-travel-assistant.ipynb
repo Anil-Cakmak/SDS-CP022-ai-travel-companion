{
 "cells": [
  {
   "cell_type": "code",
   "execution_count": 1,
   "metadata": {},
   "outputs": [
    {
     "ename": "",
     "evalue": "",
     "output_type": "error",
     "traceback": [
      "\u001b[1;31mFailed to start the Kernel. \n",
      "\u001b[1;31mJupyter Server crashed. Unable to connect. \n",
      "\u001b[1;31mError code from Jupyter: 1\n",
      "\u001b[1;31mTraceback (most recent call last):\n",
      "\u001b[1;31m  File \"/Users/aditiphadnis/Documents/Github Projects/SDS-CP022-ai-travel-companion/.venv/bin/jupyter-notebook\", line 7, in <module>\n",
      "\u001b[1;31m    from notebook.app import main\n",
      "\u001b[1;31m  File \"/Users/aditiphadnis/Documents/Github Projects/SDS-CP022-ai-travel-companion/.venv/lib/python3.9/site-packages/notebook/app.py\", line 17, in <module>\n",
      "\u001b[1;31m    from jupyter_server.serverapp import flags\n",
      "\u001b[1;31m  File \"/Users/aditiphadnis/Documents/Github Projects/SDS-CP022-ai-travel-companion/.venv/lib/python3.9/site-packages/jupyter_server/serverapp.py\", line 40, in <module>\n",
      "\u001b[1;31m    from jupyter_events.logger import EventLogger\n",
      "\u001b[1;31m  File \"/Users/aditiphadnis/Documents/Github Projects/SDS-CP022-ai-travel-companion/.venv/lib/python3.9/site-packages/jupyter_events/__init__.py\", line 3, in <module>\n",
      "\u001b[1;31m    from .logger import EVENTS_METADATA_VERSION, EventLogger\n",
      "\u001b[1;31m  File \"/Users/aditiphadnis/Documents/Github Projects/SDS-CP022-ai-travel-companion/.venv/lib/python3.9/site-packages/jupyter_events/logger.py\", line 15, in <module>\n",
      "\u001b[1;31m    from jsonschema import ValidationError\n",
      "\u001b[1;31m  File \"/Users/aditiphadnis/Documents/Github Projects/SDS-CP022-ai-travel-companion/.venv/lib/python3.9/site-packages/jsonschema/__init__.py\", line 13, in <module>\n",
      "\u001b[1;31m    from jsonschema._format import FormatChecker\n",
      "\u001b[1;31m  File \"/Users/aditiphadnis/Documents/Github Projects/SDS-CP022-ai-travel-companion/.venv/lib/python3.9/site-packages/jsonschema/_format.py\", line 11, in <module>\n",
      "\u001b[1;31m    from jsonschema.exceptions import FormatError\n",
      "\u001b[1;31m  File \"/Users/aditiphadnis/Documents/Github Projects/SDS-CP022-ai-travel-companion/.venv/lib/python3.9/site-packages/jsonschema/exceptions.py\", line 15, in <module>\n",
      "\u001b[1;31m    from referencing.exceptions import Unresolvable as _Unresolvable\n",
      "\u001b[1;31m  File \"/Users/aditiphadnis/Documents/Github Projects/SDS-CP022-ai-travel-companion/.venv/lib/python3.9/site-packages/referencing/__init__.py\", line 5, in <module>\n",
      "\u001b[1;31m    from referencing._core import Anchor, Registry, Resource, Specification\n",
      "\u001b[1;31m  File \"/Users/aditiphadnis/Documents/Github Projects/SDS-CP022-ai-travel-companion/.venv/lib/python3.9/site-packages/referencing/_core.py\", line 9, in <module>\n",
      "\u001b[1;31m    from rpds import HashTrieMap, HashTrieSet, List\n",
      "\u001b[1;31m  File \"/Users/aditiphadnis/Documents/Github Projects/SDS-CP022-ai-travel-companion/.venv/lib/python3.9/site-packages/rpds/__init__.py\", line 1, in <module>\n",
      "\u001b[1;31m    from .rpds import *\n",
      "\u001b[1;31mImportError: dlopen(/Users/aditiphadnis/Documents/Github Projects/SDS-CP022-ai-travel-companion/.venv/lib/python3.9/site-packages/rpds/rpds.cpython-39-darwin.so, 0x0002): tried: '/Users/aditiphadnis/Documents/Github Projects/SDS-CP022-ai-travel-companion/.venv/lib/python3.9/site-packages/rpds/rpds.cpython-39-darwin.so' (mach-o file, but is an incompatible architecture (have 'arm64', need 'x86_64')), '/System/Volumes/Preboot/Cryptexes/OS/Users/aditiphadnis/Documents/Github Projects/SDS-CP022-ai-travel-companion/.venv/lib/python3.9/site-packages/rpds/rpds.cpython-39-darwin.so' (no such file), '/Users/aditiphadnis/Documents/Github Projects/SDS-CP022-ai-travel-companion/.venv/lib/python3.9/site-packages/rpds/rpds.cpython-39-darwin.so' (mach-o file, but is an incompatible architecture (have 'arm64', need 'x86_64')). \n",
      "\u001b[1;31mView Jupyter <a href='command:jupyter.viewOutput'>log</a> for further details."
     ]
    }
   ],
   "source": [
    "import os\n",
    "\n",
    "from langchain import hub\n",
    "from langchain.agents import (\n",
    "    create_react_agent,\n",
    "    AgentExecutor,\n",
    ")\n",
    "from langchain_core.tools import Tool\n",
    "from langchain_openai import ChatOpenAI\n",
    "from langchain_core.prompts import PromptTemplate\n",
    "from dotenv import load_dotenv\n",
    "import requests\n",
    "\n",
    "load_dotenv() \n"
   ]
  },
  {
   "cell_type": "code",
   "execution_count": 2,
   "metadata": {},
   "outputs": [],
   "source": [
    "urls = {\n",
    "    'top':'https://www.tripadvisor.com/TravelersChoice-Destinations-cTop-g1',\n",
    "    'trending':'https://www.tripadvisor.com/TravelersChoice-Destinations-cTrending-g1',\n",
    "    'food':'https://www.tripadvisor.com/TravelersChoice-Destinations-cFood-g1',\n",
    "    'culture':'https://www.tripadvisor.com/TravelersChoice-Destinations-cCulture-g1'\n",
    "}"
   ]
  },
  {
   "cell_type": "code",
   "execution_count": 3,
   "metadata": {},
   "outputs": [],
   "source": []
  },
  {
   "cell_type": "code",
   "execution_count": 4,
   "metadata": {},
   "outputs": [
    {
     "name": "stdout",
     "output_type": "stream",
     "text": [
      "\n"
     ]
    }
   ],
   "source": []
  }
 ],
 "metadata": {
  "kernelspec": {
   "display_name": ".venv",
   "language": "python",
   "name": "python3"
  },
  "language_info": {
   "codemirror_mode": {
    "name": "ipython",
    "version": 3
   },
   "file_extension": ".py",
   "mimetype": "text/x-python",
   "name": "python",
   "nbconvert_exporter": "python",
   "pygments_lexer": "ipython3",
   "version": "3.9.6"
  }
 },
 "nbformat": 4,
 "nbformat_minor": 2
}
