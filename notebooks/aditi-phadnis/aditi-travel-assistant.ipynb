{
 "cells": [
  {
   "cell_type": "code",
   "execution_count": 1,
   "metadata": {},
   "outputs": [
    {
     "name": "stderr",
     "output_type": "stream",
     "text": [
      "/Users/aditiphadnis/Documents/Github Projects/SDS-CP022-ai-travel-companion/.venv/lib/python3.9/site-packages/urllib3/__init__.py:35: NotOpenSSLWarning: urllib3 v2 only supports OpenSSL 1.1.1+, currently the 'ssl' module is compiled with 'LibreSSL 2.8.3'. See: https://github.com/urllib3/urllib3/issues/3020\n",
      "  warnings.warn(\n"
     ]
    }
   ],
   "source": [
    "from selenium import webdriver\n",
    "from selenium.webdriver.common.by import By\n",
    "import time"
   ]
  },
  {
   "cell_type": "code",
   "execution_count": 2,
   "metadata": {},
   "outputs": [],
   "source": [
    "urls = {\n",
    "    'top':'https://www.tripadvisor.com/TravelersChoice-Destinations-cTop-g1',\n",
    "    'trending':'https://www.tripadvisor.com/TravelersChoice-Destinations-cTrending-g1',\n",
    "    'food':'https://www.tripadvisor.com/TravelersChoice-Destinations-cFood-g1',\n",
    "    'culture':'https://www.tripadvisor.com/TravelersChoice-Destinations-cCulture-g1'\n",
    "}"
   ]
  },
  {
   "cell_type": "code",
   "execution_count": 3,
   "metadata": {},
   "outputs": [],
   "source": [
    "# Set up the WebDriver (make sure to replace the path with the location of your driver)\n",
    "driver = webdriver.Chrome()\n",
    "\n",
    "# Open the website you want to scrape\n",
    "driver.get(urls['top'])\n",
    "\n",
    "# Wait for the page to load completely\n",
    "time.sleep(2)\n",
    "\n",
    "# Extract all the text inside the body tag\n",
    "body_text = driver.find_element(By.TAG_NAME, 'body').text\n",
    "\n",
    "# Close the browser\n",
    "driver.quit()"
   ]
  },
  {
   "cell_type": "code",
   "execution_count": 4,
   "metadata": {},
   "outputs": [
    {
     "name": "stdout",
     "output_type": "stream",
     "text": [
      "\n"
     ]
    }
   ],
   "source": [
    "# Print the extracted text\n",
    "print(body_text)"
   ]
  }
 ],
 "metadata": {
  "kernelspec": {
   "display_name": ".venv",
   "language": "python",
   "name": "python3"
  },
  "language_info": {
   "codemirror_mode": {
    "name": "ipython",
    "version": 3
   },
   "file_extension": ".py",
   "mimetype": "text/x-python",
   "name": "python",
   "nbconvert_exporter": "python",
   "pygments_lexer": "ipython3",
   "version": "3.9.6"
  }
 },
 "nbformat": 4,
 "nbformat_minor": 2
}
